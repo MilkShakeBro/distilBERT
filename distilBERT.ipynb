{
 "cells": [
  {
   "cell_type": "code",
   "execution_count": 1,
   "metadata": {},
   "outputs": [
    {
     "name": "stdout",
     "output_type": "stream",
     "text": [
      "file header: ['id', 'q', 'r', 's', \"q'\", \"r'\", '', 'total no.: 7987']\n"
     ]
    },
    {
     "data": {
      "text/plain": [
       "['8',\n",
       " '\"It can go both ways . We all doubt . It is what you do with it that matters .\"',\n",
       " '\"True .\"',\n",
       " 'AGREE',\n",
       " '\"It can go both ways . We all doubt . It is what you do with it that matters .\"',\n",
       " '\"True .\"',\n",
       " '',\n",
       " '']"
      ]
     },
     "execution_count": 1,
     "metadata": {},
     "output_type": "execute_result"
    }
   ],
   "source": [
    "import csv\n",
    "file = open('train_data.csv')\n",
    "csvreader = csv.reader(file)\n",
    "\n",
    "header = next(csvreader)\n",
    "print(f'file header: {header}')\n",
    "\n",
    "rows = []\n",
    "for row in csvreader:\n",
    "        rows.append(row)\n",
    "\n",
    "rows[0]"
   ]
  },
  {
   "cell_type": "code",
   "execution_count": 2,
   "metadata": {},
   "outputs": [],
   "source": [
    "import pandas as pd\n",
    "X = pd.DataFrame(data=rows, columns=header)\n",
    "Q = X.copy().drop(columns=['r', 's', \"r'\", '', \"total no.: 7987\"]).to_dict('records')\n",
    "R = X.copy().drop(columns=['q', 's', \"q'\", '', \"total no.: 7987\"]).to_dict('records')"
   ]
  },
  {
   "cell_type": "code",
   "execution_count": 3,
   "metadata": {},
   "outputs": [
    {
     "name": "stderr",
     "output_type": "stream",
     "text": [
      "2022-11-09 08:03:09.031251: I tensorflow/core/platform/cpu_feature_guard.cc:193] This TensorFlow binary is optimized with oneAPI Deep Neural Network Library (oneDNN) to use the following CPU instructions in performance-critical operations:  AVX2 FMA\n",
      "To enable them in other operations, rebuild TensorFlow with the appropriate compiler flags.\n"
     ]
    }
   ],
   "source": [
    "from transformers import AutoTokenizer\n",
    "\n",
    "tokenizer = AutoTokenizer.from_pretrained(\"distilbert-base-uncased\")"
   ]
  },
  {
   "cell_type": "code",
   "execution_count": 4,
   "metadata": {},
   "outputs": [],
   "source": [
    "def words_to_tags(raw_data, statement, short):\n",
    "\n",
    "    data = []\n",
    "\n",
    "    for idx in range(len(raw_data)):\n",
    "\n",
    "        obj = {}\n",
    "        tags = []\n",
    "\n",
    "        content = tokenizer(raw_data[idx].get(statement), is_split_into_words=False)\n",
    "        content_token = tokenizer.convert_ids_to_tokens(content[\"input_ids\"])\n",
    "        label = tokenizer(raw_data[idx].get(short), is_split_into_words=False)\n",
    "        label_token = tokenizer.convert_ids_to_tokens(label[\"input_ids\"])\n",
    "\n",
    "        idxForLabel=0\n",
    "\n",
    "        # print(f'content: {content_token}')\n",
    "        # print(f'label: {label_token}')\n",
    "\n",
    "        for token in content_token:\n",
    "            if (token == '[CLS]' or token == '[SEP]'):\n",
    "                content_token.remove(token)\n",
    "        \n",
    "        for token in label_token:\n",
    "            if (token == '[CLS]' or token == '[SEP]'):\n",
    "                label_token.remove(token)\n",
    "\n",
    "        for token in content_token:\n",
    "\n",
    "            if (idxForLabel < len(label_token) and token==label_token[idxForLabel]):\n",
    "                idxForLabel += 1\n",
    "                tags.append(1)\n",
    "            else:\n",
    "                tags.append(0)\n",
    "        \n",
    "        obj['id'] = raw_data[idx].get('id')\n",
    "        obj['tokens'] = content_token\n",
    "        obj['tags'] = tags\n",
    "\n",
    "        data.append(obj)\n",
    "    \n",
    "    return data\n"
   ]
  },
  {
   "cell_type": "code",
   "execution_count": 24,
   "metadata": {},
   "outputs": [],
   "source": [
    "def tokenize_and_align_labels(examples):\n",
    "    output = examples\n",
    "    for idx in range(len(examples)):\n",
    "        content = tokenizer(examples[idx]['tokens'], truncation=True, is_split_into_words=True)\n",
    "        output[idx][\"attention_mask\"]=content[\"attention_mask\"]\n",
    "        output[idx][\"input_ids\"]=content[\"input_ids\"]\n",
    "        labels = []\n",
    "        for i, label in enumerate(examples[idx]['tags']):\n",
    "            arr = examples[idx]['tags']\n",
    "            word_ids = content.word_ids()  # Map tokens to their respective word.\n",
    "            previous_word_idx = None\n",
    "            label_ids = []\n",
    "            for word_idx in word_ids:  # Set the special tokens to -100.\n",
    "                if word_idx is None:\n",
    "                    label_ids.append(-100)\n",
    "                elif word_idx != previous_word_idx:  # Only label the first token of a given word.\n",
    "                    label_ids.append(arr[word_idx])\n",
    "                else:\n",
    "                    label_ids.append(-100)\n",
    "                previous_word_idx = word_idx\n",
    "            output[idx][\"labels\"]=label_ids\n",
    "    return output"
   ]
  },
  {
   "cell_type": "code",
   "execution_count": 27,
   "metadata": {},
   "outputs": [],
   "source": [
    "Q = X.copy().drop(columns=['r', 's', \"r'\", '', \"total no.: 7987\"]).to_dict('records')\n",
    "Q = words_to_tags(Q, \"q\", \"q'\")"
   ]
  },
  {
   "cell_type": "code",
   "execution_count": null,
   "metadata": {},
   "outputs": [],
   "source": [
    "Q[2]"
   ]
  },
  {
   "cell_type": "code",
   "execution_count": 28,
   "metadata": {},
   "outputs": [],
   "source": [
    "Q_ = tokenize_and_align_labels(Q)"
   ]
  },
  {
   "cell_type": "code",
   "execution_count": null,
   "metadata": {},
   "outputs": [],
   "source": [
    "print(Q_[0].keys())\n",
    "print(Q_[6]['input_ids'])\n",
    "print(Q_[6]['attention_mask'])\n",
    "print(Q_[6]['labels'])\n",
    "print(len(Q_[6]['input_ids']))\n",
    "print(len(Q_[6]['attention_mask']))\n",
    "print(len(Q_[6]['labels']))"
   ]
  },
  {
   "cell_type": "code",
   "execution_count": 34,
   "metadata": {},
   "outputs": [],
   "source": [
    "from transformers import DataCollatorForTokenClassification\n",
    "\n",
    "data_collator = DataCollatorForTokenClassification(tokenizer=tokenizer)"
   ]
  },
  {
   "cell_type": "code",
   "execution_count": 36,
   "metadata": {},
   "outputs": [
    {
     "name": "stderr",
     "output_type": "stream",
     "text": [
      "Some weights of the model checkpoint at distilbert-base-uncased were not used when initializing DistilBertForTokenClassification: ['vocab_transform.weight', 'vocab_projector.bias', 'vocab_layer_norm.weight', 'vocab_transform.bias', 'vocab_projector.weight', 'vocab_layer_norm.bias']\n",
      "- This IS expected if you are initializing DistilBertForTokenClassification from the checkpoint of a model trained on another task or with another architecture (e.g. initializing a BertForSequenceClassification model from a BertForPreTraining model).\n",
      "- This IS NOT expected if you are initializing DistilBertForTokenClassification from the checkpoint of a model that you expect to be exactly identical (initializing a BertForSequenceClassification model from a BertForSequenceClassification model).\n",
      "Some weights of DistilBertForTokenClassification were not initialized from the model checkpoint at distilbert-base-uncased and are newly initialized: ['classifier.weight', 'classifier.bias']\n",
      "You should probably TRAIN this model on a down-stream task to be able to use it for predictions and inference.\n"
     ]
    }
   ],
   "source": [
    "from transformers import AutoModelForTokenClassification, TrainingArguments, Trainer\n",
    "\n",
    "model = AutoModelForTokenClassification.from_pretrained(\"distilbert-base-uncased\", num_labels=2)"
   ]
  },
  {
   "cell_type": "code",
   "execution_count": 41,
   "metadata": {},
   "outputs": [
    {
     "data": {
      "text/plain": [
       "38346"
      ]
     },
     "execution_count": 41,
     "metadata": {},
     "output_type": "execute_result"
    }
   ],
   "source": [
    "# Split the training data set and testing data set\n",
    "len(Q_) # 38346"
   ]
  },
  {
   "cell_type": "code",
   "execution_count": 43,
   "metadata": {},
   "outputs": [
    {
     "name": "stderr",
     "output_type": "stream",
     "text": [
      "PyTorch: setting up devices\n",
      "The default value for the training argument `--report_to` will change in v5 (from all installed integrations to none). In v5, you will need to use `--report_to all` to get the same behavior as now. You should start updating your code and make this info disappear :-).\n",
      "***** Running training *****\n",
      "  Num examples = 100\n",
      "  Num Epochs = 3\n",
      "  Instantaneous batch size per device = 16\n",
      "  Total train batch size (w. parallel, distributed & accumulation) = 16\n",
      "  Gradient Accumulation steps = 1\n",
      "  Total optimization steps = 21\n",
      "  Number of trainable parameters = 66364418\n"
     ]
    },
    {
     "data": {
      "application/vnd.jupyter.widget-view+json": {
       "model_id": "d5ca53b56c954d82a8a7a466df1da1f9",
       "version_major": 2,
       "version_minor": 0
      },
      "text/plain": [
       "  0%|          | 0/21 [00:00<?, ?it/s]"
      ]
     },
     "metadata": {},
     "output_type": "display_data"
    },
    {
     "name": "stderr",
     "output_type": "stream",
     "text": [
      "The following columns in the training set don't have a corresponding argument in `DistilBertForTokenClassification.forward` and have been ignored: id, tokens, tags. If id, tokens, tags are not expected by `DistilBertForTokenClassification.forward`,  you can safely ignore this message.\n",
      "***** Running Evaluation *****\n",
      "  Num examples = 9\n",
      "  Batch size = 16\n",
      "The following columns in the evaluation set don't have a corresponding argument in `DistilBertForTokenClassification.forward` and have been ignored: id, tokens, tags. If id, tokens, tags are not expected by `DistilBertForTokenClassification.forward`,  you can safely ignore this message.\n"
     ]
    },
    {
     "data": {
      "application/vnd.jupyter.widget-view+json": {
       "model_id": "24cf702b69ef47dca09ba597d3cffdd3",
       "version_major": 2,
       "version_minor": 0
      },
      "text/plain": [
       "  0%|          | 0/1 [00:00<?, ?it/s]"
      ]
     },
     "metadata": {},
     "output_type": "display_data"
    },
    {
     "name": "stdout",
     "output_type": "stream",
     "text": [
      "{'eval_loss': 0.3345896303653717, 'eval_runtime': 1.5661, 'eval_samples_per_second': 5.747, 'eval_steps_per_second': 0.639, 'epoch': 1.0}\n"
     ]
    },
    {
     "name": "stderr",
     "output_type": "stream",
     "text": [
      "***** Running Evaluation *****\n",
      "  Num examples = 9\n",
      "  Batch size = 16\n",
      "The following columns in the evaluation set don't have a corresponding argument in `DistilBertForTokenClassification.forward` and have been ignored: id, tokens, tags. If id, tokens, tags are not expected by `DistilBertForTokenClassification.forward`,  you can safely ignore this message.\n"
     ]
    },
    {
     "data": {
      "application/vnd.jupyter.widget-view+json": {
       "model_id": "f7fda7c6e11a43bbbcd0d3fc3b1533db",
       "version_major": 2,
       "version_minor": 0
      },
      "text/plain": [
       "  0%|          | 0/1 [00:00<?, ?it/s]"
      ]
     },
     "metadata": {},
     "output_type": "display_data"
    },
    {
     "name": "stdout",
     "output_type": "stream",
     "text": [
      "{'eval_loss': 0.32207179069519043, 'eval_runtime': 1.4784, 'eval_samples_per_second': 6.088, 'eval_steps_per_second': 0.676, 'epoch': 2.0}\n"
     ]
    },
    {
     "name": "stderr",
     "output_type": "stream",
     "text": [
      "***** Running Evaluation *****\n",
      "  Num examples = 9\n",
      "  Batch size = 16\n",
      "The following columns in the evaluation set don't have a corresponding argument in `DistilBertForTokenClassification.forward` and have been ignored: id, tokens, tags. If id, tokens, tags are not expected by `DistilBertForTokenClassification.forward`,  you can safely ignore this message.\n"
     ]
    },
    {
     "data": {
      "application/vnd.jupyter.widget-view+json": {
       "model_id": "f5a2608e363143338cd280986fcdf257",
       "version_major": 2,
       "version_minor": 0
      },
      "text/plain": [
       "  0%|          | 0/1 [00:00<?, ?it/s]"
      ]
     },
     "metadata": {},
     "output_type": "display_data"
    },
    {
     "name": "stderr",
     "output_type": "stream",
     "text": [
      "\n",
      "\n",
      "Training completed. Do not forget to share your model on huggingface.co/models =)\n",
      "\n",
      "\n"
     ]
    },
    {
     "name": "stdout",
     "output_type": "stream",
     "text": [
      "{'eval_loss': 0.31831175088882446, 'eval_runtime': 1.7216, 'eval_samples_per_second': 5.228, 'eval_steps_per_second': 0.581, 'epoch': 3.0}\n",
      "{'train_runtime': 503.064, 'train_samples_per_second': 0.596, 'train_steps_per_second': 0.042, 'train_loss': 0.37268749872843426, 'epoch': 3.0}\n"
     ]
    },
    {
     "data": {
      "text/plain": [
       "TrainOutput(global_step=21, training_loss=0.37268749872843426, metrics={'train_runtime': 503.064, 'train_samples_per_second': 0.596, 'train_steps_per_second': 0.042, 'train_loss': 0.37268749872843426, 'epoch': 3.0})"
      ]
     },
     "execution_count": 43,
     "metadata": {},
     "output_type": "execute_result"
    }
   ],
   "source": [
    "training_args = TrainingArguments(\n",
    "    output_dir=\"./results\",\n",
    "    evaluation_strategy=\"epoch\",\n",
    "    learning_rate=2e-5,\n",
    "    per_device_train_batch_size=16,\n",
    "    per_device_eval_batch_size=16,\n",
    "    num_train_epochs=3,\n",
    "    weight_decay=0.01,\n",
    ")\n",
    "\n",
    "trainer = Trainer(\n",
    "    model=model,\n",
    "    args=training_args,\n",
    "    train_dataset=Q_[0:100],\n",
    "    eval_dataset=Q_[101:110],\n",
    "    tokenizer=tokenizer,\n",
    "    data_collator=data_collator,\n",
    ")\n",
    "\n",
    "trainer.train()"
   ]
  },
  {
   "cell_type": "code",
   "execution_count": null,
   "metadata": {},
   "outputs": [],
   "source": [
    "trainer.predict()"
   ]
  }
 ],
 "metadata": {
  "kernelspec": {
   "display_name": "Python 3.9.12 ('venv': venv)",
   "language": "python",
   "name": "python3"
  },
  "language_info": {
   "codemirror_mode": {
    "name": "ipython",
    "version": 3
   },
   "file_extension": ".py",
   "mimetype": "text/x-python",
   "name": "python",
   "nbconvert_exporter": "python",
   "pygments_lexer": "ipython3",
   "version": "3.9.12"
  },
  "orig_nbformat": 4,
  "vscode": {
   "interpreter": {
    "hash": "d99b4ea3328b8429a1e84564ba2f817340c2757769c4cd989fb5fe3bf7e34b71"
   }
  }
 },
 "nbformat": 4,
 "nbformat_minor": 2
}
